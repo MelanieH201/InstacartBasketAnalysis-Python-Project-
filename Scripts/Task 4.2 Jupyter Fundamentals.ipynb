{
 "cells": [
  {
   "cell_type": "markdown",
   "id": "90885f52",
   "metadata": {},
   "source": [
    "# Import Libraries"
   ]
  },
  {
   "cell_type": "code",
   "execution_count": 2,
   "id": "87113c62",
   "metadata": {},
   "outputs": [],
   "source": [
    "# Import libraries\n",
    "import pandas as pd\n",
    "import numpy as np\n",
    "import os"
   ]
  },
  {
   "cell_type": "markdown",
   "id": "152f0777",
   "metadata": {},
   "source": [
    "# Data Types"
   ]
  },
  {
   "cell_type": "code",
   "execution_count": 3,
   "id": "c452f75a",
   "metadata": {},
   "outputs": [
    {
     "data": {
      "text/plain": [
       "100"
      ]
     },
     "execution_count": 3,
     "metadata": {},
     "output_type": "execute_result"
    }
   ],
   "source": [
    "# Result 100\n",
    "x = 50\n",
    "x * 2 "
   ]
  },
  {
   "cell_type": "code",
   "execution_count": 4,
   "id": "67e87b2f",
   "metadata": {},
   "outputs": [
    {
     "data": {
      "text/plain": [
       "100"
      ]
     },
     "execution_count": 4,
     "metadata": {},
     "output_type": "execute_result"
    }
   ],
   "source": [
    "# Result 100\n",
    "x + x"
   ]
  },
  {
   "cell_type": "code",
   "execution_count": 5,
   "id": "8152a415",
   "metadata": {},
   "outputs": [
    {
     "data": {
      "text/plain": [
       "100"
      ]
     },
     "execution_count": 5,
     "metadata": {},
     "output_type": "execute_result"
    }
   ],
   "source": [
    "# Result 100\n",
    "150 - x"
   ]
  },
  {
   "cell_type": "code",
   "execution_count": 6,
   "id": "b15f6e39",
   "metadata": {},
   "outputs": [],
   "source": [
    "# Floating-point variable\n",
    "y = 4.567"
   ]
  },
  {
   "cell_type": "code",
   "execution_count": 7,
   "id": "e4a3bc58",
   "metadata": {},
   "outputs": [
    {
     "data": {
      "text/plain": [
       "float"
      ]
     },
     "execution_count": 7,
     "metadata": {},
     "output_type": "execute_result"
    }
   ],
   "source": [
    "type(y)"
   ]
  },
  {
   "cell_type": "code",
   "execution_count": 9,
   "id": "320f6f0b",
   "metadata": {},
   "outputs": [],
   "source": [
    "# Floating variable\n",
    "z = 5.678"
   ]
  },
  {
   "cell_type": "code",
   "execution_count": 10,
   "id": "810a22d8",
   "metadata": {},
   "outputs": [
    {
     "data": {
      "text/plain": [
       "float"
      ]
     },
     "execution_count": 10,
     "metadata": {},
     "output_type": "execute_result"
    }
   ],
   "source": [
    "type(z)"
   ]
  },
  {
   "cell_type": "code",
   "execution_count": 11,
   "id": "2b3fbf30",
   "metadata": {},
   "outputs": [
    {
     "data": {
      "text/plain": [
       "1.0"
      ]
     },
     "execution_count": 11,
     "metadata": {},
     "output_type": "execute_result"
    }
   ],
   "source": [
    "# Floating variable\n",
    "z/y"
   ]
  },
  {
   "cell_type": "code",
   "execution_count": 13,
   "id": "e9c198b7",
   "metadata": {},
   "outputs": [
    {
     "data": {
      "text/plain": [
       "'popcorn'"
      ]
     },
     "execution_count": 13,
     "metadata": {},
     "output_type": "execute_result"
    }
   ],
   "source": [
    "# Short Word Concatenation \n",
    "a = 'pop'\n",
    "b = 'corn'\n",
    "a + b"
   ]
  },
  {
   "cell_type": "code",
   "execution_count": 14,
   "id": "3ae6be5e",
   "metadata": {},
   "outputs": [
    {
     "data": {
      "text/plain": [
       "\"Hi, I'm Melanie.\""
      ]
     },
     "execution_count": 14,
     "metadata": {},
     "output_type": "execute_result"
    }
   ],
   "source": [
    "# Short Sentence Concatenation\n",
    "c = \"Hi, \"\n",
    "d = \"I'm \"\n",
    "e = \"Melanie.\"\n",
    "c + d + e "
   ]
  },
  {
   "cell_type": "code",
   "execution_count": 15,
   "id": "ed38dc8c",
   "metadata": {},
   "outputs": [
    {
     "data": {
      "text/plain": [
       "'This is my favorite place.'"
      ]
     },
     "execution_count": 15,
     "metadata": {},
     "output_type": "execute_result"
    }
   ],
   "source": [
    "# Short Sentence Concatenation\n",
    "f = 'This '\n",
    "g = 'is my '\n",
    "h = 'favorite place.'\n",
    "f + g + h"
   ]
  }
 ],
 "metadata": {
  "kernelspec": {
   "display_name": "Python 3 (ipykernel)",
   "language": "python",
   "name": "python3"
  },
  "language_info": {
   "codemirror_mode": {
    "name": "ipython",
    "version": 3
   },
   "file_extension": ".py",
   "mimetype": "text/x-python",
   "name": "python",
   "nbconvert_exporter": "python",
   "pygments_lexer": "ipython3",
   "version": "3.9.12"
  }
 },
 "nbformat": 4,
 "nbformat_minor": 5
}
