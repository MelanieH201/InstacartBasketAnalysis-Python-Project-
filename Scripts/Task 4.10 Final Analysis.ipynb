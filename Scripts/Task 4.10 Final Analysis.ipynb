{
 "cells": [
  {
   "cell_type": "markdown",
   "id": "50f065ea",
   "metadata": {},
   "source": [
    "# Task 4.10 Coding Etiquette & Excel Reporting"
   ]
  },
  {
   "cell_type": "markdown",
   "id": "51a9ab0e",
   "metadata": {},
   "source": [
    "# 1 Importing Libraries and Data"
   ]
  },
  {
   "cell_type": "code",
   "execution_count": 1,
   "id": "b8b3d1a0",
   "metadata": {},
   "outputs": [],
   "source": [
    "# Importing libraries and data\n",
    "import pandas as pd\n",
    "import numpy as np\n",
    "import os\n",
    "import matplotlib.pyplot as plt\n",
    "import seaborn as sns\n",
    "import scipy"
   ]
  },
  {
   "cell_type": "code",
   "execution_count": 2,
   "id": "920ebae1",
   "metadata": {},
   "outputs": [],
   "source": [
    "path = r'/Users/melanie/Desktop/7:2022 Instacart Basket Analysis'"
   ]
  },
  {
   "cell_type": "code",
   "execution_count": 3,
   "id": "c9de41f3",
   "metadata": {},
   "outputs": [],
   "source": [
    "df_merged = pd.read_pickle(os.path.join(path, 'Data','Prepared Data', 'orders_products_final.pkl'))"
   ]
  },
  {
   "cell_type": "markdown",
   "id": "f9ae6740",
   "metadata": {},
   "source": [
    "# Data Checks"
   ]
  },
  {
   "cell_type": "code",
   "execution_count": 4,
   "id": "f65dab0c",
   "metadata": {},
   "outputs": [
    {
     "data": {
      "text/html": [
       "<div>\n",
       "<style scoped>\n",
       "    .dataframe tbody tr th:only-of-type {\n",
       "        vertical-align: middle;\n",
       "    }\n",
       "\n",
       "    .dataframe tbody tr th {\n",
       "        vertical-align: top;\n",
       "    }\n",
       "\n",
       "    .dataframe thead th {\n",
       "        text-align: right;\n",
       "    }\n",
       "</style>\n",
       "<table border=\"1\" class=\"dataframe\">\n",
       "  <thead>\n",
       "    <tr style=\"text-align: right;\">\n",
       "      <th></th>\n",
       "      <th>product_id</th>\n",
       "      <th>product_name</th>\n",
       "      <th>aisle_id</th>\n",
       "      <th>department_id</th>\n",
       "      <th>prices</th>\n",
       "      <th>order_id</th>\n",
       "      <th>user_id</th>\n",
       "      <th>order_number</th>\n",
       "      <th>orders_day_of_week</th>\n",
       "      <th>order_hour_of_day</th>\n",
       "      <th>...</th>\n",
       "      <th>frequency_flag</th>\n",
       "      <th>first_name</th>\n",
       "      <th>last_name</th>\n",
       "      <th>gender</th>\n",
       "      <th>state</th>\n",
       "      <th>age</th>\n",
       "      <th>date_joined</th>\n",
       "      <th>dependents</th>\n",
       "      <th>marital_status</th>\n",
       "      <th>income</th>\n",
       "    </tr>\n",
       "  </thead>\n",
       "  <tbody>\n",
       "    <tr>\n",
       "      <th>0</th>\n",
       "      <td>1</td>\n",
       "      <td>Chocolate Sandwich Cookies</td>\n",
       "      <td>61</td>\n",
       "      <td>19</td>\n",
       "      <td>5.8</td>\n",
       "      <td>3139998</td>\n",
       "      <td>138</td>\n",
       "      <td>28</td>\n",
       "      <td>6</td>\n",
       "      <td>11</td>\n",
       "      <td>...</td>\n",
       "      <td>Frequent customer</td>\n",
       "      <td>Charles</td>\n",
       "      <td>Cox</td>\n",
       "      <td>Male</td>\n",
       "      <td>Minnesota</td>\n",
       "      <td>81</td>\n",
       "      <td>8/1/2019</td>\n",
       "      <td>1</td>\n",
       "      <td>married</td>\n",
       "      <td>49620</td>\n",
       "    </tr>\n",
       "    <tr>\n",
       "      <th>1</th>\n",
       "      <td>1</td>\n",
       "      <td>Chocolate Sandwich Cookies</td>\n",
       "      <td>61</td>\n",
       "      <td>19</td>\n",
       "      <td>5.8</td>\n",
       "      <td>1977647</td>\n",
       "      <td>138</td>\n",
       "      <td>30</td>\n",
       "      <td>6</td>\n",
       "      <td>17</td>\n",
       "      <td>...</td>\n",
       "      <td>Frequent customer</td>\n",
       "      <td>Charles</td>\n",
       "      <td>Cox</td>\n",
       "      <td>Male</td>\n",
       "      <td>Minnesota</td>\n",
       "      <td>81</td>\n",
       "      <td>8/1/2019</td>\n",
       "      <td>1</td>\n",
       "      <td>married</td>\n",
       "      <td>49620</td>\n",
       "    </tr>\n",
       "    <tr>\n",
       "      <th>2</th>\n",
       "      <td>907</td>\n",
       "      <td>Premium Sliced Bacon</td>\n",
       "      <td>106</td>\n",
       "      <td>12</td>\n",
       "      <td>20.0</td>\n",
       "      <td>3160996</td>\n",
       "      <td>138</td>\n",
       "      <td>1</td>\n",
       "      <td>5</td>\n",
       "      <td>13</td>\n",
       "      <td>...</td>\n",
       "      <td>Frequent customer</td>\n",
       "      <td>Charles</td>\n",
       "      <td>Cox</td>\n",
       "      <td>Male</td>\n",
       "      <td>Minnesota</td>\n",
       "      <td>81</td>\n",
       "      <td>8/1/2019</td>\n",
       "      <td>1</td>\n",
       "      <td>married</td>\n",
       "      <td>49620</td>\n",
       "    </tr>\n",
       "    <tr>\n",
       "      <th>3</th>\n",
       "      <td>907</td>\n",
       "      <td>Premium Sliced Bacon</td>\n",
       "      <td>106</td>\n",
       "      <td>12</td>\n",
       "      <td>20.0</td>\n",
       "      <td>2254091</td>\n",
       "      <td>138</td>\n",
       "      <td>10</td>\n",
       "      <td>5</td>\n",
       "      <td>14</td>\n",
       "      <td>...</td>\n",
       "      <td>Frequent customer</td>\n",
       "      <td>Charles</td>\n",
       "      <td>Cox</td>\n",
       "      <td>Male</td>\n",
       "      <td>Minnesota</td>\n",
       "      <td>81</td>\n",
       "      <td>8/1/2019</td>\n",
       "      <td>1</td>\n",
       "      <td>married</td>\n",
       "      <td>49620</td>\n",
       "    </tr>\n",
       "    <tr>\n",
       "      <th>4</th>\n",
       "      <td>1000</td>\n",
       "      <td>Apricots</td>\n",
       "      <td>18</td>\n",
       "      <td>10</td>\n",
       "      <td>12.9</td>\n",
       "      <td>505689</td>\n",
       "      <td>138</td>\n",
       "      <td>9</td>\n",
       "      <td>6</td>\n",
       "      <td>12</td>\n",
       "      <td>...</td>\n",
       "      <td>Frequent customer</td>\n",
       "      <td>Charles</td>\n",
       "      <td>Cox</td>\n",
       "      <td>Male</td>\n",
       "      <td>Minnesota</td>\n",
       "      <td>81</td>\n",
       "      <td>8/1/2019</td>\n",
       "      <td>1</td>\n",
       "      <td>married</td>\n",
       "      <td>49620</td>\n",
       "    </tr>\n",
       "  </tbody>\n",
       "</table>\n",
       "<p>5 rows × 33 columns</p>\n",
       "</div>"
      ],
      "text/plain": [
       "   product_id                product_name  aisle_id  department_id  prices  \\\n",
       "0           1  Chocolate Sandwich Cookies        61             19     5.8   \n",
       "1           1  Chocolate Sandwich Cookies        61             19     5.8   \n",
       "2         907        Premium Sliced Bacon       106             12    20.0   \n",
       "3         907        Premium Sliced Bacon       106             12    20.0   \n",
       "4        1000                    Apricots        18             10    12.9   \n",
       "\n",
       "   order_id  user_id  order_number  orders_day_of_week  order_hour_of_day  \\\n",
       "0   3139998      138            28                   6                 11   \n",
       "1   1977647      138            30                   6                 17   \n",
       "2   3160996      138             1                   5                 13   \n",
       "3   2254091      138            10                   5                 14   \n",
       "4    505689      138             9                   6                 12   \n",
       "\n",
       "   ...     frequency_flag  first_name  last_name gender      state age  \\\n",
       "0  ...  Frequent customer     Charles        Cox   Male  Minnesota  81   \n",
       "1  ...  Frequent customer     Charles        Cox   Male  Minnesota  81   \n",
       "2  ...  Frequent customer     Charles        Cox   Male  Minnesota  81   \n",
       "3  ...  Frequent customer     Charles        Cox   Male  Minnesota  81   \n",
       "4  ...  Frequent customer     Charles        Cox   Male  Minnesota  81   \n",
       "\n",
       "  date_joined dependents marital_status  income  \n",
       "0    8/1/2019          1        married   49620  \n",
       "1    8/1/2019          1        married   49620  \n",
       "2    8/1/2019          1        married   49620  \n",
       "3    8/1/2019          1        married   49620  \n",
       "4    8/1/2019          1        married   49620  \n",
       "\n",
       "[5 rows x 33 columns]"
      ]
     },
     "execution_count": 4,
     "metadata": {},
     "output_type": "execute_result"
    }
   ],
   "source": [
    "df_merged.head()"
   ]
  },
  {
   "cell_type": "markdown",
   "id": "af085718",
   "metadata": {},
   "source": [
    "# Addressing Privacy Concerns"
   ]
  },
  {
   "cell_type": "code",
   "execution_count": 5,
   "id": "273f2ed6",
   "metadata": {},
   "outputs": [
    {
     "data": {
      "text/plain": [
       "Index(['product_id', 'product_name', 'aisle_id', 'department_id', 'prices',\n",
       "       'order_id', 'user_id', 'order_number', 'orders_day_of_week',\n",
       "       'order_hour_of_day', 'days_since_previous_order', 'add_to_cart_order',\n",
       "       'reordered', '_merge', 'price_range', 'price_range_loc',\n",
       "       ' price_range_loc', 'busiest_days', 'busiest_period_of_day',\n",
       "       'max_order', 'loyalty_flag', 'spending_flag', 'median_order_duration',\n",
       "       'frequency_flag', 'first_name', 'last_name', 'gender', 'state', 'age',\n",
       "       'date_joined', 'dependents', 'marital_status', 'income'],\n",
       "      dtype='object')"
      ]
     },
     "execution_count": 5,
     "metadata": {},
     "output_type": "execute_result"
    }
   ],
   "source": [
    "# Looking for PII columns\n",
    "df_merged.columns"
   ]
  },
  {
   "cell_type": "markdown",
   "id": "8c9fdb97",
   "metadata": {},
   "source": [
    "There is PII in the data to include customer names. We can drop these columns to keep customers' privacy. The user_id column should be unique enough to identify each customer. "
   ]
  },
  {
   "cell_type": "code",
   "execution_count": 6,
   "id": "e16c387c",
   "metadata": {},
   "outputs": [],
   "source": [
    "# Dropping columns\n",
    "df_merged.drop(columns =['first_name', 'last_name'], inplace=True, axis=1)"
   ]
  },
  {
   "cell_type": "code",
   "execution_count": 7,
   "id": "71422824",
   "metadata": {},
   "outputs": [
    {
     "data": {
      "text/html": [
       "<div>\n",
       "<style scoped>\n",
       "    .dataframe tbody tr th:only-of-type {\n",
       "        vertical-align: middle;\n",
       "    }\n",
       "\n",
       "    .dataframe tbody tr th {\n",
       "        vertical-align: top;\n",
       "    }\n",
       "\n",
       "    .dataframe thead th {\n",
       "        text-align: right;\n",
       "    }\n",
       "</style>\n",
       "<table border=\"1\" class=\"dataframe\">\n",
       "  <thead>\n",
       "    <tr style=\"text-align: right;\">\n",
       "      <th></th>\n",
       "      <th>product_id</th>\n",
       "      <th>product_name</th>\n",
       "      <th>aisle_id</th>\n",
       "      <th>department_id</th>\n",
       "      <th>prices</th>\n",
       "      <th>order_id</th>\n",
       "      <th>user_id</th>\n",
       "      <th>order_number</th>\n",
       "      <th>orders_day_of_week</th>\n",
       "      <th>order_hour_of_day</th>\n",
       "      <th>...</th>\n",
       "      <th>spending_flag</th>\n",
       "      <th>median_order_duration</th>\n",
       "      <th>frequency_flag</th>\n",
       "      <th>gender</th>\n",
       "      <th>state</th>\n",
       "      <th>age</th>\n",
       "      <th>date_joined</th>\n",
       "      <th>dependents</th>\n",
       "      <th>marital_status</th>\n",
       "      <th>income</th>\n",
       "    </tr>\n",
       "  </thead>\n",
       "  <tbody>\n",
       "    <tr>\n",
       "      <th>0</th>\n",
       "      <td>1</td>\n",
       "      <td>Chocolate Sandwich Cookies</td>\n",
       "      <td>61</td>\n",
       "      <td>19</td>\n",
       "      <td>5.8</td>\n",
       "      <td>3139998</td>\n",
       "      <td>138</td>\n",
       "      <td>28</td>\n",
       "      <td>6</td>\n",
       "      <td>11</td>\n",
       "      <td>...</td>\n",
       "      <td>Low spender</td>\n",
       "      <td>8.0</td>\n",
       "      <td>Frequent customer</td>\n",
       "      <td>Male</td>\n",
       "      <td>Minnesota</td>\n",
       "      <td>81</td>\n",
       "      <td>8/1/2019</td>\n",
       "      <td>1</td>\n",
       "      <td>married</td>\n",
       "      <td>49620</td>\n",
       "    </tr>\n",
       "    <tr>\n",
       "      <th>1</th>\n",
       "      <td>1</td>\n",
       "      <td>Chocolate Sandwich Cookies</td>\n",
       "      <td>61</td>\n",
       "      <td>19</td>\n",
       "      <td>5.8</td>\n",
       "      <td>1977647</td>\n",
       "      <td>138</td>\n",
       "      <td>30</td>\n",
       "      <td>6</td>\n",
       "      <td>17</td>\n",
       "      <td>...</td>\n",
       "      <td>Low spender</td>\n",
       "      <td>8.0</td>\n",
       "      <td>Frequent customer</td>\n",
       "      <td>Male</td>\n",
       "      <td>Minnesota</td>\n",
       "      <td>81</td>\n",
       "      <td>8/1/2019</td>\n",
       "      <td>1</td>\n",
       "      <td>married</td>\n",
       "      <td>49620</td>\n",
       "    </tr>\n",
       "    <tr>\n",
       "      <th>2</th>\n",
       "      <td>907</td>\n",
       "      <td>Premium Sliced Bacon</td>\n",
       "      <td>106</td>\n",
       "      <td>12</td>\n",
       "      <td>20.0</td>\n",
       "      <td>3160996</td>\n",
       "      <td>138</td>\n",
       "      <td>1</td>\n",
       "      <td>5</td>\n",
       "      <td>13</td>\n",
       "      <td>...</td>\n",
       "      <td>High spender</td>\n",
       "      <td>8.0</td>\n",
       "      <td>Frequent customer</td>\n",
       "      <td>Male</td>\n",
       "      <td>Minnesota</td>\n",
       "      <td>81</td>\n",
       "      <td>8/1/2019</td>\n",
       "      <td>1</td>\n",
       "      <td>married</td>\n",
       "      <td>49620</td>\n",
       "    </tr>\n",
       "    <tr>\n",
       "      <th>3</th>\n",
       "      <td>907</td>\n",
       "      <td>Premium Sliced Bacon</td>\n",
       "      <td>106</td>\n",
       "      <td>12</td>\n",
       "      <td>20.0</td>\n",
       "      <td>2254091</td>\n",
       "      <td>138</td>\n",
       "      <td>10</td>\n",
       "      <td>5</td>\n",
       "      <td>14</td>\n",
       "      <td>...</td>\n",
       "      <td>High spender</td>\n",
       "      <td>8.0</td>\n",
       "      <td>Frequent customer</td>\n",
       "      <td>Male</td>\n",
       "      <td>Minnesota</td>\n",
       "      <td>81</td>\n",
       "      <td>8/1/2019</td>\n",
       "      <td>1</td>\n",
       "      <td>married</td>\n",
       "      <td>49620</td>\n",
       "    </tr>\n",
       "    <tr>\n",
       "      <th>4</th>\n",
       "      <td>1000</td>\n",
       "      <td>Apricots</td>\n",
       "      <td>18</td>\n",
       "      <td>10</td>\n",
       "      <td>12.9</td>\n",
       "      <td>505689</td>\n",
       "      <td>138</td>\n",
       "      <td>9</td>\n",
       "      <td>6</td>\n",
       "      <td>12</td>\n",
       "      <td>...</td>\n",
       "      <td>High spender</td>\n",
       "      <td>8.0</td>\n",
       "      <td>Frequent customer</td>\n",
       "      <td>Male</td>\n",
       "      <td>Minnesota</td>\n",
       "      <td>81</td>\n",
       "      <td>8/1/2019</td>\n",
       "      <td>1</td>\n",
       "      <td>married</td>\n",
       "      <td>49620</td>\n",
       "    </tr>\n",
       "  </tbody>\n",
       "</table>\n",
       "<p>5 rows × 31 columns</p>\n",
       "</div>"
      ],
      "text/plain": [
       "   product_id                product_name  aisle_id  department_id  prices  \\\n",
       "0           1  Chocolate Sandwich Cookies        61             19     5.8   \n",
       "1           1  Chocolate Sandwich Cookies        61             19     5.8   \n",
       "2         907        Premium Sliced Bacon       106             12    20.0   \n",
       "3         907        Premium Sliced Bacon       106             12    20.0   \n",
       "4        1000                    Apricots        18             10    12.9   \n",
       "\n",
       "   order_id  user_id  order_number  orders_day_of_week  order_hour_of_day  \\\n",
       "0   3139998      138            28                   6                 11   \n",
       "1   1977647      138            30                   6                 17   \n",
       "2   3160996      138             1                   5                 13   \n",
       "3   2254091      138            10                   5                 14   \n",
       "4    505689      138             9                   6                 12   \n",
       "\n",
       "   ...  spending_flag  median_order_duration     frequency_flag gender  \\\n",
       "0  ...    Low spender                    8.0  Frequent customer   Male   \n",
       "1  ...    Low spender                    8.0  Frequent customer   Male   \n",
       "2  ...   High spender                    8.0  Frequent customer   Male   \n",
       "3  ...   High spender                    8.0  Frequent customer   Male   \n",
       "4  ...   High spender                    8.0  Frequent customer   Male   \n",
       "\n",
       "       state age date_joined dependents marital_status  income  \n",
       "0  Minnesota  81    8/1/2019          1        married   49620  \n",
       "1  Minnesota  81    8/1/2019          1        married   49620  \n",
       "2  Minnesota  81    8/1/2019          1        married   49620  \n",
       "3  Minnesota  81    8/1/2019          1        married   49620  \n",
       "4  Minnesota  81    8/1/2019          1        married   49620  \n",
       "\n",
       "[5 rows x 31 columns]"
      ]
     },
     "execution_count": 7,
     "metadata": {},
     "output_type": "execute_result"
    }
   ],
   "source": [
    "df_merged.head()"
   ]
  },
  {
   "cell_type": "markdown",
   "id": "f112ae22",
   "metadata": {},
   "source": [
    "# Splitting States into Regions"
   ]
  },
  {
   "cell_type": "code",
   "execution_count": 8,
   "id": "945e4ab9",
   "metadata": {},
   "outputs": [],
   "source": [
    "# States for Northwest region\n",
    "Northeast = ['Maine', 'New Hampshire', 'Vermont', 'Massachusetts', 'Rhode Island', \n",
    "             'Connecticut', 'New York', 'Pennsylvania', 'New Jersey']"
   ]
  },
  {
   "cell_type": "code",
   "execution_count": 9,
   "id": "f8421bbc",
   "metadata": {},
   "outputs": [],
   "source": [
    "# States for Midwest region\n",
    "Midwest = ['Wisconsin', 'Michigan', 'Illinois', 'Indiana', 'Ohio', 'North Dakota', \n",
    "           'South Dakota', 'Nebraska', 'Kansas', 'Minnesota', 'Iowa', 'Missiouri']"
   ]
  },
  {
   "cell_type": "code",
   "execution_count": 10,
   "id": "9f9febc2",
   "metadata": {},
   "outputs": [],
   "source": [
    "# States for South region\n",
    "South = ['Delaware', 'Maryland', 'District of Columbia', 'Virginia', 'West Virginia',\n",
    "'North Carolina', 'South Carolina', 'Georgia', 'Florida', 'Kentucky', 'Tennessee',\n",
    "'Mississippi', 'Alabama', 'Oklahoma', 'Texas', 'Arkansas', 'Louisiana']"
   ]
  },
  {
   "cell_type": "code",
   "execution_count": 11,
   "id": "4c156368",
   "metadata": {},
   "outputs": [],
   "source": [
    "# States for West region\n",
    "West = ['Idaho', 'Montana', 'Wyoming', 'Nevada', 'Utah', 'Colorado', 'Arizona',\n",
    "'New Mexico', 'Alaska', 'Washington', 'Oregon', 'California', 'Hawaii']"
   ]
  },
  {
   "cell_type": "code",
   "execution_count": 12,
   "id": "fc51877c",
   "metadata": {},
   "outputs": [],
   "source": [
    "# Loop statement for regions\n",
    "result = []\n",
    "for value in df_merged['state']:\n",
    "    if value in Northeast:\n",
    "        result.append('Northeast')\n",
    "    elif value in Midwest:\n",
    "        result.append('Midwest')\n",
    "    elif value in South:\n",
    "        result.append('South')\n",
    "    else:\n",
    "        result.append('West')"
   ]
  },
  {
   "cell_type": "code",
   "execution_count": 13,
   "id": "97fd622c",
   "metadata": {},
   "outputs": [],
   "source": [
    "# Including column in dataset\n",
    "df_merged['region'] = result"
   ]
  },
  {
   "cell_type": "code",
   "execution_count": 14,
   "id": "5b2b7e4a",
   "metadata": {},
   "outputs": [
    {
     "data": {
      "text/plain": [
       "South        10801195\n",
       "West          8941425\n",
       "Midwest       6962266\n",
       "Northeast     5728144\n",
       "Name: region, dtype: int64"
      ]
     },
     "execution_count": 14,
     "metadata": {},
     "output_type": "execute_result"
    }
   ],
   "source": [
    "df_merged['region'].value_counts()"
   ]
  },
  {
   "cell_type": "markdown",
   "id": "600bea4f",
   "metadata": {},
   "source": [
    "# Determining difference in spending habits among regions"
   ]
  },
  {
   "cell_type": "code",
   "execution_count": 15,
   "id": "93767e74",
   "metadata": {},
   "outputs": [
    {
     "data": {
      "text/html": [
       "<div>\n",
       "<style scoped>\n",
       "    .dataframe tbody tr th:only-of-type {\n",
       "        vertical-align: middle;\n",
       "    }\n",
       "\n",
       "    .dataframe tbody tr th {\n",
       "        vertical-align: top;\n",
       "    }\n",
       "\n",
       "    .dataframe thead tr th {\n",
       "        text-align: left;\n",
       "    }\n",
       "\n",
       "    .dataframe thead tr:last-of-type th {\n",
       "        text-align: right;\n",
       "    }\n",
       "</style>\n",
       "<table border=\"1\" class=\"dataframe\">\n",
       "  <thead>\n",
       "    <tr>\n",
       "      <th></th>\n",
       "      <th colspan=\"3\" halign=\"left\">prices</th>\n",
       "    </tr>\n",
       "    <tr>\n",
       "      <th></th>\n",
       "      <th>mean</th>\n",
       "      <th>min</th>\n",
       "      <th>max</th>\n",
       "    </tr>\n",
       "    <tr>\n",
       "      <th>region</th>\n",
       "      <th></th>\n",
       "      <th></th>\n",
       "      <th></th>\n",
       "    </tr>\n",
       "  </thead>\n",
       "  <tbody>\n",
       "    <tr>\n",
       "      <th>Midwest</th>\n",
       "      <td>12.627875</td>\n",
       "      <td>1.0</td>\n",
       "      <td>99999.0</td>\n",
       "    </tr>\n",
       "    <tr>\n",
       "      <th>Northeast</th>\n",
       "      <td>11.556554</td>\n",
       "      <td>1.0</td>\n",
       "      <td>99999.0</td>\n",
       "    </tr>\n",
       "    <tr>\n",
       "      <th>South</th>\n",
       "      <td>12.196474</td>\n",
       "      <td>1.0</td>\n",
       "      <td>99999.0</td>\n",
       "    </tr>\n",
       "    <tr>\n",
       "      <th>West</th>\n",
       "      <td>11.490124</td>\n",
       "      <td>1.0</td>\n",
       "      <td>99999.0</td>\n",
       "    </tr>\n",
       "  </tbody>\n",
       "</table>\n",
       "</div>"
      ],
      "text/plain": [
       "              prices              \n",
       "                mean  min      max\n",
       "region                            \n",
       "Midwest    12.627875  1.0  99999.0\n",
       "Northeast  11.556554  1.0  99999.0\n",
       "South      12.196474  1.0  99999.0\n",
       "West       11.490124  1.0  99999.0"
      ]
     },
     "execution_count": 15,
     "metadata": {},
     "output_type": "execute_result"
    }
   ],
   "source": [
    "# Finding min, mean, max for prices among regions\n",
    "df_merged.groupby('region').agg({'prices': ['mean', 'min', 'max']})"
   ]
  },
  {
   "cell_type": "markdown",
   "id": "3900eef1",
   "metadata": {},
   "source": [
    "All of the mean values are similar among regions. "
   ]
  },
  {
   "cell_type": "markdown",
   "id": "87591b5c",
   "metadata": {},
   "source": [
    "# Creating an exclusion flag for low spending customers"
   ]
  },
  {
   "cell_type": "code",
   "execution_count": 16,
   "id": "28148d3b",
   "metadata": {},
   "outputs": [],
   "source": [
    "# Creating an exclusion flag \n",
    "result2 = []\n",
    "for total in df_merged['max_order']:\n",
    "    if total < 5:\n",
    "        result2.append('Low activity')\n",
    "    else: \n",
    "        result2.append('Regular activity')"
   ]
  },
  {
   "cell_type": "code",
   "execution_count": 17,
   "id": "096e3d11",
   "metadata": {},
   "outputs": [],
   "source": [
    "df_merged['activity_flag'] = result2"
   ]
  },
  {
   "cell_type": "code",
   "execution_count": 18,
   "id": "51b9190c",
   "metadata": {},
   "outputs": [
    {
     "data": {
      "text/plain": [
       "Regular activity    30991542\n",
       "Low activity         1441488\n",
       "Name: activity_flag, dtype: int64"
      ]
     },
     "execution_count": 18,
     "metadata": {},
     "output_type": "execute_result"
    }
   ],
   "source": [
    "df_merged['activity_flag'].value_counts(dropna = False)"
   ]
  },
  {
   "cell_type": "code",
   "execution_count": 19,
   "id": "6a36e382",
   "metadata": {},
   "outputs": [],
   "source": [
    "# Getting rid of low activity customers \n",
    "reg_customers = df_merged[df_merged.activity_flag != 'Low activity']"
   ]
  },
  {
   "cell_type": "code",
   "execution_count": 20,
   "id": "59ef22a5",
   "metadata": {},
   "outputs": [
    {
     "data": {
      "text/plain": [
       "(30991542, 33)"
      ]
     },
     "execution_count": 20,
     "metadata": {},
     "output_type": "execute_result"
    }
   ],
   "source": [
    "# Checking the new shape of the database\n",
    "reg_customers.shape"
   ]
  },
  {
   "cell_type": "code",
   "execution_count": 21,
   "id": "89b25df0",
   "metadata": {},
   "outputs": [
    {
     "data": {
      "text/plain": [
       "(32433030, 33)"
      ]
     },
     "execution_count": 21,
     "metadata": {},
     "output_type": "execute_result"
    }
   ],
   "source": [
    "# Comparing with original shape of database\n",
    "df_merged.shape"
   ]
  },
  {
   "cell_type": "code",
   "execution_count": 22,
   "id": "bfcd8e58",
   "metadata": {},
   "outputs": [
    {
     "data": {
      "text/plain": [
       "1441578"
      ]
     },
     "execution_count": 22,
     "metadata": {},
     "output_type": "execute_result"
    }
   ],
   "source": [
    "#Checking to make sure all low activity customers are gone\n",
    "32433030-30991452"
   ]
  },
  {
   "cell_type": "code",
   "execution_count": 23,
   "id": "7a220ef3",
   "metadata": {},
   "outputs": [],
   "source": [
    "# Exporting regular customers database\n",
    "reg_customers.to_pickle(os.path.join(path, 'Data', 'Prepared Data', 'reg_customers.pkl'))"
   ]
  },
  {
   "cell_type": "markdown",
   "id": "c9205a1d",
   "metadata": {},
   "source": [
    "# Creating Character Profiles"
   ]
  },
  {
   "cell_type": "markdown",
   "id": "e82cb347",
   "metadata": {},
   "source": [
    "# Age Group Flag"
   ]
  },
  {
   "cell_type": "code",
   "execution_count": 24,
   "id": "93498557",
   "metadata": {},
   "outputs": [],
   "source": [
    "# Creating an age profile for young adult, 18-25\n",
    "df_merged.loc[df_merged['age'] <= 25 , 'age_group'] = 'Young adult'"
   ]
  },
  {
   "cell_type": "code",
   "execution_count": 25,
   "id": "79813a8f",
   "metadata": {},
   "outputs": [],
   "source": [
    "# Creating an age profile for adult, 26-45\n",
    "df_merged.loc[(df_merged['age'] >=26) & (df_merged['age'] <= 45), 'age_group'] = 'Adult'"
   ]
  },
  {
   "cell_type": "code",
   "execution_count": 26,
   "id": "8041d686",
   "metadata": {},
   "outputs": [],
   "source": [
    "# Creating an age profile for middle aged adult, 46-55\n",
    "df_merged.loc[(df_merged['age'] >= 46) & (df_merged['age'] <=55), 'age_group'] = 'Middle Aged Adult'"
   ]
  },
  {
   "cell_type": "code",
   "execution_count": 27,
   "id": "68b7f759",
   "metadata": {},
   "outputs": [],
   "source": [
    "# Creating an age profile for senior adult, 56 and older\n",
    "df_merged.loc[df_merged['age'] >= 56, 'age_group'] = 'Senior'"
   ]
  },
  {
   "cell_type": "code",
   "execution_count": 28,
   "id": "7599c724",
   "metadata": {},
   "outputs": [
    {
     "data": {
      "text/plain": [
       "Senior               13103551\n",
       "Adult                10164587\n",
       "Middle Aged Adult     5116035\n",
       "Young adult           4048857\n",
       "Name: age_group, dtype: int64"
      ]
     },
     "execution_count": 28,
     "metadata": {},
     "output_type": "execute_result"
    }
   ],
   "source": [
    "df_merged['age_group'].value_counts(dropna = False)"
   ]
  },
  {
   "cell_type": "markdown",
   "id": "a5b4c0ee",
   "metadata": {},
   "source": [
    "# Income Flag"
   ]
  },
  {
   "cell_type": "code",
   "execution_count": 29,
   "id": "9c7e7d49",
   "metadata": {},
   "outputs": [],
   "source": [
    "# Creating ranges for income\n",
    "income_group = []\n",
    "\n",
    "for value in df_merged['income']:\n",
    "    if value < 36000:\n",
    "        income_group.append('Low income')\n",
    "    elif (value > 36000) and (value < 75000):\n",
    "        income_group.append('Middle income')\n",
    "    else:\n",
    "        income_group.append('High income')"
   ]
  },
  {
   "cell_type": "code",
   "execution_count": 30,
   "id": "a570de54",
   "metadata": {},
   "outputs": [],
   "source": [
    "# Applying conditions to database\n",
    "df_merged['income_group'] = income_group"
   ]
  },
  {
   "cell_type": "code",
   "execution_count": 31,
   "id": "58dbdaaa",
   "metadata": {},
   "outputs": [
    {
     "data": {
      "text/plain": [
       "High income      21980635\n",
       "Middle income     9345815\n",
       "Low income        1106580\n",
       "Name: income_group, dtype: int64"
      ]
     },
     "execution_count": 31,
     "metadata": {},
     "output_type": "execute_result"
    }
   ],
   "source": [
    "# Checking conditions of income groups\n",
    "df_merged['income_group'].value_counts()"
   ]
  },
  {
   "cell_type": "markdown",
   "id": "3750a334",
   "metadata": {},
   "source": [
    "# Dependent Flag"
   ]
  },
  {
   "cell_type": "code",
   "execution_count": 32,
   "id": "fcf4abc6",
   "metadata": {},
   "outputs": [],
   "source": [
    "# Creating a dependent flag\n",
    "df_merged.loc[df_merged['dependents'] == 0 , 'dependent_flag'] = 'No dependents'"
   ]
  },
  {
   "cell_type": "code",
   "execution_count": 33,
   "id": "90501192",
   "metadata": {},
   "outputs": [],
   "source": [
    "df_merged.loc[df_merged['dependents'] > 0, 'dependent_flag'] = 'Parent/Guardian'"
   ]
  },
  {
   "cell_type": "code",
   "execution_count": 34,
   "id": "07d7def6",
   "metadata": {},
   "outputs": [
    {
     "data": {
      "text/plain": [
       "Parent/Guardian    24328189\n",
       "No dependents       8104841\n",
       "Name: dependent_flag, dtype: int64"
      ]
     },
     "execution_count": 34,
     "metadata": {},
     "output_type": "execute_result"
    }
   ],
   "source": [
    "df_merged['dependent_flag'].value_counts(dropna=False)"
   ]
  },
  {
   "cell_type": "markdown",
   "id": "58278b80",
   "metadata": {},
   "source": [
    "# Department Flag"
   ]
  },
  {
   "cell_type": "code",
   "execution_count": 35,
   "id": "942ae5c8",
   "metadata": {},
   "outputs": [],
   "source": [
    "# Importing departments csv file\n",
    "df_dept = pd.read_csv(os.path.join(path, 'Data', 'Prepared Data', 'departments_wrangled.csv'), index_col=0)"
   ]
  },
  {
   "cell_type": "code",
   "execution_count": 36,
   "id": "668094da",
   "metadata": {},
   "outputs": [
    {
     "data": {
      "text/html": [
       "<div>\n",
       "<style scoped>\n",
       "    .dataframe tbody tr th:only-of-type {\n",
       "        vertical-align: middle;\n",
       "    }\n",
       "\n",
       "    .dataframe tbody tr th {\n",
       "        vertical-align: top;\n",
       "    }\n",
       "\n",
       "    .dataframe thead th {\n",
       "        text-align: right;\n",
       "    }\n",
       "</style>\n",
       "<table border=\"1\" class=\"dataframe\">\n",
       "  <thead>\n",
       "    <tr style=\"text-align: right;\">\n",
       "      <th></th>\n",
       "      <th>0</th>\n",
       "    </tr>\n",
       "  </thead>\n",
       "  <tbody>\n",
       "    <tr>\n",
       "      <th>department_id</th>\n",
       "      <td>department</td>\n",
       "    </tr>\n",
       "    <tr>\n",
       "      <th>1</th>\n",
       "      <td>frozen</td>\n",
       "    </tr>\n",
       "    <tr>\n",
       "      <th>2</th>\n",
       "      <td>other</td>\n",
       "    </tr>\n",
       "    <tr>\n",
       "      <th>3</th>\n",
       "      <td>bakery</td>\n",
       "    </tr>\n",
       "    <tr>\n",
       "      <th>4</th>\n",
       "      <td>produce</td>\n",
       "    </tr>\n",
       "    <tr>\n",
       "      <th>5</th>\n",
       "      <td>alcohol</td>\n",
       "    </tr>\n",
       "    <tr>\n",
       "      <th>6</th>\n",
       "      <td>international</td>\n",
       "    </tr>\n",
       "    <tr>\n",
       "      <th>7</th>\n",
       "      <td>beverages</td>\n",
       "    </tr>\n",
       "    <tr>\n",
       "      <th>8</th>\n",
       "      <td>pets</td>\n",
       "    </tr>\n",
       "    <tr>\n",
       "      <th>9</th>\n",
       "      <td>dry goods pasta</td>\n",
       "    </tr>\n",
       "    <tr>\n",
       "      <th>10</th>\n",
       "      <td>bulk</td>\n",
       "    </tr>\n",
       "    <tr>\n",
       "      <th>11</th>\n",
       "      <td>personal care</td>\n",
       "    </tr>\n",
       "    <tr>\n",
       "      <th>12</th>\n",
       "      <td>meat seafood</td>\n",
       "    </tr>\n",
       "    <tr>\n",
       "      <th>13</th>\n",
       "      <td>pantry</td>\n",
       "    </tr>\n",
       "    <tr>\n",
       "      <th>14</th>\n",
       "      <td>breakfast</td>\n",
       "    </tr>\n",
       "    <tr>\n",
       "      <th>15</th>\n",
       "      <td>canned goods</td>\n",
       "    </tr>\n",
       "    <tr>\n",
       "      <th>16</th>\n",
       "      <td>dairy eggs</td>\n",
       "    </tr>\n",
       "    <tr>\n",
       "      <th>17</th>\n",
       "      <td>household</td>\n",
       "    </tr>\n",
       "    <tr>\n",
       "      <th>18</th>\n",
       "      <td>babies</td>\n",
       "    </tr>\n",
       "    <tr>\n",
       "      <th>19</th>\n",
       "      <td>snacks</td>\n",
       "    </tr>\n",
       "    <tr>\n",
       "      <th>20</th>\n",
       "      <td>deli</td>\n",
       "    </tr>\n",
       "    <tr>\n",
       "      <th>21</th>\n",
       "      <td>missing</td>\n",
       "    </tr>\n",
       "  </tbody>\n",
       "</table>\n",
       "</div>"
      ],
      "text/plain": [
       "                             0\n",
       "department_id       department\n",
       "1                       frozen\n",
       "2                        other\n",
       "3                       bakery\n",
       "4                      produce\n",
       "5                      alcohol\n",
       "6                international\n",
       "7                    beverages\n",
       "8                         pets\n",
       "9              dry goods pasta\n",
       "10                        bulk\n",
       "11               personal care\n",
       "12                meat seafood\n",
       "13                      pantry\n",
       "14                   breakfast\n",
       "15                canned goods\n",
       "16                  dairy eggs\n",
       "17                   household\n",
       "18                      babies\n",
       "19                      snacks\n",
       "20                        deli\n",
       "21                     missing"
      ]
     },
     "execution_count": 36,
     "metadata": {},
     "output_type": "execute_result"
    }
   ],
   "source": [
    "df_dept"
   ]
  },
  {
   "cell_type": "code",
   "execution_count": 37,
   "id": "efb30d18",
   "metadata": {},
   "outputs": [],
   "source": [
    "# Create a department flag for each department type\n",
    "dept_type = []\n",
    "for value in df_merged['department_id']:\n",
    "    if value == 1:\n",
    "        dept_type.append('frozen')\n",
    "    elif value == 2:\n",
    "        dept_type.append('other')\n",
    "    elif value == 3:\n",
    "        dept_type.append('bakery')\n",
    "    elif value == 4:\n",
    "        dept_type.append('produce')\n",
    "    elif value == 5:\n",
    "        dept_type.append('alcohol')\n",
    "    elif value == 6:\n",
    "        dept_type.append('international')\n",
    "    elif value == 7:\n",
    "        dept_type.append('business')\n",
    "    elif value == 8:\n",
    "        dept_type.append('pets')\n",
    "    elif value == 9:\n",
    "        dept_type.append('dry goods pasta')\n",
    "    elif value == 10:\n",
    "        dept_type.append('bulks')\n",
    "    elif value == 11:\n",
    "        dept_type.append('personal care')\n",
    "    elif value == 12:\n",
    "        dept_type.append('meat seafood')\n",
    "    elif value == 13:\n",
    "        dept_type.append('pantry')\n",
    "    elif value == 14:\n",
    "        dept_type.append('breakfast')\n",
    "    elif value == 15:\n",
    "        dept_type.append('canned goods')\n",
    "    elif value == 16:\n",
    "        dept_type.append('dairy eggs')\n",
    "    elif value == 17:\n",
    "        dept_type.append('household')\n",
    "    elif value == 18:\n",
    "        dept_type.append('babies')\n",
    "    elif value == 19:\n",
    "        dept_type.append('snacks')\n",
    "    elif value == 20:\n",
    "        dept_type.append('deli')\n",
    "    elif value == 21:\n",
    "        dept_type.append('missing')"
   ]
  },
  {
   "cell_type": "code",
   "execution_count": 38,
   "id": "da40dc82",
   "metadata": {},
   "outputs": [],
   "source": [
    "# Applying conditions to database\n",
    "df_merged['dept_type'] = dept_type"
   ]
  },
  {
   "cell_type": "code",
   "execution_count": 39,
   "id": "dde60fc2",
   "metadata": {},
   "outputs": [
    {
     "data": {
      "text/plain": [
       "produce            9479291\n",
       "dairy eggs         5414016\n",
       "snacks             2887550\n",
       "business           2688159\n",
       "frozen             2236432\n",
       "pantry             1875577\n",
       "bakery             1176787\n",
       "canned goods       1068058\n",
       "deli               1051249\n",
       "dry goods pasta     866627\n",
       "household           738666\n",
       "breakfast           709569\n",
       "meat seafood        708931\n",
       "personal care       447634\n",
       "babies              423802\n",
       "international       269253\n",
       "alcohol             153696\n",
       "pets                 97724\n",
       "missing              69145\n",
       "other                36291\n",
       "bulks                34573\n",
       "Name: dept_type, dtype: int64"
      ]
     },
     "execution_count": 39,
     "metadata": {},
     "output_type": "execute_result"
    }
   ],
   "source": [
    "df_merged['dept_type'].value_counts()"
   ]
  },
  {
   "cell_type": "code",
   "execution_count": 40,
   "id": "91bf364e",
   "metadata": {},
   "outputs": [
    {
     "data": {
      "text/html": [
       "<div>\n",
       "<style scoped>\n",
       "    .dataframe tbody tr th:only-of-type {\n",
       "        vertical-align: middle;\n",
       "    }\n",
       "\n",
       "    .dataframe tbody tr th {\n",
       "        vertical-align: top;\n",
       "    }\n",
       "\n",
       "    .dataframe thead th {\n",
       "        text-align: right;\n",
       "    }\n",
       "</style>\n",
       "<table border=\"1\" class=\"dataframe\">\n",
       "  <thead>\n",
       "    <tr style=\"text-align: right;\">\n",
       "      <th></th>\n",
       "      <th>product_id</th>\n",
       "      <th>product_name</th>\n",
       "      <th>aisle_id</th>\n",
       "      <th>department_id</th>\n",
       "      <th>prices</th>\n",
       "      <th>order_id</th>\n",
       "      <th>user_id</th>\n",
       "      <th>order_number</th>\n",
       "      <th>orders_day_of_week</th>\n",
       "      <th>order_hour_of_day</th>\n",
       "      <th>...</th>\n",
       "      <th>date_joined</th>\n",
       "      <th>dependents</th>\n",
       "      <th>marital_status</th>\n",
       "      <th>income</th>\n",
       "      <th>region</th>\n",
       "      <th>activity_flag</th>\n",
       "      <th>age_group</th>\n",
       "      <th>income_group</th>\n",
       "      <th>dependent_flag</th>\n",
       "      <th>dept_type</th>\n",
       "    </tr>\n",
       "  </thead>\n",
       "  <tbody>\n",
       "    <tr>\n",
       "      <th>0</th>\n",
       "      <td>1</td>\n",
       "      <td>Chocolate Sandwich Cookies</td>\n",
       "      <td>61</td>\n",
       "      <td>19</td>\n",
       "      <td>5.8</td>\n",
       "      <td>3139998</td>\n",
       "      <td>138</td>\n",
       "      <td>28</td>\n",
       "      <td>6</td>\n",
       "      <td>11</td>\n",
       "      <td>...</td>\n",
       "      <td>8/1/2019</td>\n",
       "      <td>1</td>\n",
       "      <td>married</td>\n",
       "      <td>49620</td>\n",
       "      <td>Midwest</td>\n",
       "      <td>Regular activity</td>\n",
       "      <td>Senior</td>\n",
       "      <td>Middle income</td>\n",
       "      <td>Parent/Guardian</td>\n",
       "      <td>snacks</td>\n",
       "    </tr>\n",
       "    <tr>\n",
       "      <th>1</th>\n",
       "      <td>1</td>\n",
       "      <td>Chocolate Sandwich Cookies</td>\n",
       "      <td>61</td>\n",
       "      <td>19</td>\n",
       "      <td>5.8</td>\n",
       "      <td>1977647</td>\n",
       "      <td>138</td>\n",
       "      <td>30</td>\n",
       "      <td>6</td>\n",
       "      <td>17</td>\n",
       "      <td>...</td>\n",
       "      <td>8/1/2019</td>\n",
       "      <td>1</td>\n",
       "      <td>married</td>\n",
       "      <td>49620</td>\n",
       "      <td>Midwest</td>\n",
       "      <td>Regular activity</td>\n",
       "      <td>Senior</td>\n",
       "      <td>Middle income</td>\n",
       "      <td>Parent/Guardian</td>\n",
       "      <td>snacks</td>\n",
       "    </tr>\n",
       "    <tr>\n",
       "      <th>2</th>\n",
       "      <td>907</td>\n",
       "      <td>Premium Sliced Bacon</td>\n",
       "      <td>106</td>\n",
       "      <td>12</td>\n",
       "      <td>20.0</td>\n",
       "      <td>3160996</td>\n",
       "      <td>138</td>\n",
       "      <td>1</td>\n",
       "      <td>5</td>\n",
       "      <td>13</td>\n",
       "      <td>...</td>\n",
       "      <td>8/1/2019</td>\n",
       "      <td>1</td>\n",
       "      <td>married</td>\n",
       "      <td>49620</td>\n",
       "      <td>Midwest</td>\n",
       "      <td>Regular activity</td>\n",
       "      <td>Senior</td>\n",
       "      <td>Middle income</td>\n",
       "      <td>Parent/Guardian</td>\n",
       "      <td>meat seafood</td>\n",
       "    </tr>\n",
       "    <tr>\n",
       "      <th>3</th>\n",
       "      <td>907</td>\n",
       "      <td>Premium Sliced Bacon</td>\n",
       "      <td>106</td>\n",
       "      <td>12</td>\n",
       "      <td>20.0</td>\n",
       "      <td>2254091</td>\n",
       "      <td>138</td>\n",
       "      <td>10</td>\n",
       "      <td>5</td>\n",
       "      <td>14</td>\n",
       "      <td>...</td>\n",
       "      <td>8/1/2019</td>\n",
       "      <td>1</td>\n",
       "      <td>married</td>\n",
       "      <td>49620</td>\n",
       "      <td>Midwest</td>\n",
       "      <td>Regular activity</td>\n",
       "      <td>Senior</td>\n",
       "      <td>Middle income</td>\n",
       "      <td>Parent/Guardian</td>\n",
       "      <td>meat seafood</td>\n",
       "    </tr>\n",
       "    <tr>\n",
       "      <th>4</th>\n",
       "      <td>1000</td>\n",
       "      <td>Apricots</td>\n",
       "      <td>18</td>\n",
       "      <td>10</td>\n",
       "      <td>12.9</td>\n",
       "      <td>505689</td>\n",
       "      <td>138</td>\n",
       "      <td>9</td>\n",
       "      <td>6</td>\n",
       "      <td>12</td>\n",
       "      <td>...</td>\n",
       "      <td>8/1/2019</td>\n",
       "      <td>1</td>\n",
       "      <td>married</td>\n",
       "      <td>49620</td>\n",
       "      <td>Midwest</td>\n",
       "      <td>Regular activity</td>\n",
       "      <td>Senior</td>\n",
       "      <td>Middle income</td>\n",
       "      <td>Parent/Guardian</td>\n",
       "      <td>bulks</td>\n",
       "    </tr>\n",
       "  </tbody>\n",
       "</table>\n",
       "<p>5 rows × 37 columns</p>\n",
       "</div>"
      ],
      "text/plain": [
       "   product_id                product_name  aisle_id  department_id  prices  \\\n",
       "0           1  Chocolate Sandwich Cookies        61             19     5.8   \n",
       "1           1  Chocolate Sandwich Cookies        61             19     5.8   \n",
       "2         907        Premium Sliced Bacon       106             12    20.0   \n",
       "3         907        Premium Sliced Bacon       106             12    20.0   \n",
       "4        1000                    Apricots        18             10    12.9   \n",
       "\n",
       "   order_id  user_id  order_number  orders_day_of_week  order_hour_of_day  \\\n",
       "0   3139998      138            28                   6                 11   \n",
       "1   1977647      138            30                   6                 17   \n",
       "2   3160996      138             1                   5                 13   \n",
       "3   2254091      138            10                   5                 14   \n",
       "4    505689      138             9                   6                 12   \n",
       "\n",
       "   ...  date_joined  dependents  marital_status income   region  \\\n",
       "0  ...     8/1/2019           1         married  49620  Midwest   \n",
       "1  ...     8/1/2019           1         married  49620  Midwest   \n",
       "2  ...     8/1/2019           1         married  49620  Midwest   \n",
       "3  ...     8/1/2019           1         married  49620  Midwest   \n",
       "4  ...     8/1/2019           1         married  49620  Midwest   \n",
       "\n",
       "      activity_flag age_group   income_group   dependent_flag     dept_type  \n",
       "0  Regular activity    Senior  Middle income  Parent/Guardian        snacks  \n",
       "1  Regular activity    Senior  Middle income  Parent/Guardian        snacks  \n",
       "2  Regular activity    Senior  Middle income  Parent/Guardian  meat seafood  \n",
       "3  Regular activity    Senior  Middle income  Parent/Guardian  meat seafood  \n",
       "4  Regular activity    Senior  Middle income  Parent/Guardian         bulks  \n",
       "\n",
       "[5 rows x 37 columns]"
      ]
     },
     "execution_count": 40,
     "metadata": {},
     "output_type": "execute_result"
    }
   ],
   "source": [
    "df_merged.head()"
   ]
  },
  {
   "cell_type": "markdown",
   "id": "4993bdfc",
   "metadata": {},
   "source": [
    "# Visualizations for Distribution of Profiles"
   ]
  },
  {
   "cell_type": "code",
   "execution_count": 41,
   "id": "90dfda3d",
   "metadata": {},
   "outputs": [
    {
     "data": {
      "image/png": "[encoded data removed]",
      "text/plain": [
       "<Figure size 432x288 with 1 Axes>"
      ]
     },
     "metadata": {
      "needs_background": "light"
     },
     "output_type": "display_data"
    }
   ],
   "source": [
    "# Creating a bar chart for age groups\n",
    "age_bar = df_merged['age_group'].value_counts().sort_index().plot.bar(color = sns.color_palette('tab10'))"
   ]
  },
  {
   "cell_type": "code",
   "execution_count": 42,
   "id": "56916d74",
   "metadata": {},
   "outputs": [
    {
     "data": {
      "image/png": "[encoded data removed]",
      "text/plain": [
       "<Figure size 432x288 with 1 Axes>"
      ]
     },
     "metadata": {
      "needs_background": "light"
     },
     "output_type": "display_data"
    }
   ],
   "source": [
    "# Creating a bar chart for income \n",
    "income_bar = df_merged['income_group'].value_counts().sort_index().plot.bar(color = sns.color_palette('colorblind'))"
   ]
  },
  {
   "cell_type": "code",
   "execution_count": 43,
   "id": "e9eb63f1",
   "metadata": {},
   "outputs": [
    {
     "data": {
      "image/png": "[encoded data removed]",
      "text/plain": [
       "<Figure size 432x288 with 1 Axes>"
      ]
     },
     "metadata": {},
     "output_type": "display_data"
    }
   ],
   "source": [
    "# Pie chart representing parental status\n",
    "pstatus_pie = df_merged['dependent_flag'].value_counts().sort_index().plot(kind = 'pie', autopct = '%1.1f%%',\n",
    "                                                                          colors = sns.color_palette('colorblind'),\n",
    "                                                                          title = 'Parental Status')"
   ]
  },
  {
   "cell_type": "code",
   "execution_count": 44,
   "id": "2f55730a",
   "metadata": {},
   "outputs": [],
   "source": [
    "# Creating a crosstab between loyal customers and income groups\n",
    "ctab_loyal_income = pd.crosstab(df_merged['income_group'], df_merged['loyalty_flag'], dropna = False)"
   ]
  },
  {
   "cell_type": "code",
   "execution_count": 45,
   "id": "057f1f5f",
   "metadata": {},
   "outputs": [
    {
     "data": {
      "text/plain": [
       "Text(0.5, 0, 'Income')"
      ]
     },
     "execution_count": 45,
     "metadata": {},
     "output_type": "execute_result"
    },
    {
     "data": {
      "image/png": "[encoded data removed]",
      "text/plain": [
       "<Figure size 432x288 with 1 Axes>"
      ]
     },
     "metadata": {
      "needs_background": "light"
     },
     "output_type": "display_data"
    }
   ],
   "source": [
    "# Creating a stacked bar chart showing loyal customers and their level of income\n",
    "bar_loyal_income = ctab_loyal_income.plot(kind = 'bar', stacked = True, color = sns.color_palette('tab10'))\n",
    "plt.title ('Loyal Customers and Income')\n",
    "plt.xlabel('Income')"
   ]
  },
  {
   "cell_type": "code",
   "execution_count": 46,
   "id": "3801bda0",
   "metadata": {},
   "outputs": [],
   "source": [
    "# Creating a crosstab between age groups and income\n",
    "age_group_income = pd.crosstab(df_merged['age_group'], df_merged['income_group'], dropna = False)"
   ]
  },
  {
   "cell_type": "code",
   "execution_count": 47,
   "id": "543209f2",
   "metadata": {},
   "outputs": [
    {
     "data": {
      "image/png": "[encoded data removed]",
      "text/plain": [
       "<Figure size 432x288 with 1 Axes>"
      ]
     },
     "metadata": {
      "needs_background": "light"
     },
     "output_type": "display_data"
    }
   ],
   "source": [
    "# Creating a stacked bar chart showing age groups and level of income\n",
    "bar_age_income = age_group_income.plot(kind = 'bar', stacked = True, color = sns.color_palette('dark'))"
   ]
  },
  {
   "cell_type": "code",
   "execution_count": 48,
   "id": "da91272e",
   "metadata": {},
   "outputs": [
    {
     "data": {
      "text/plain": [
       "Text(0, 0.5, 'Order Frequency')"
      ]
     },
     "execution_count": 48,
     "metadata": {},
     "output_type": "execute_result"
    },
    {
     "data": {
      "image/png": "[encoded data removed]",
      "text/plain": [
       "<Figure size 432x288 with 1 Axes>"
      ]
     },
     "metadata": {
      "needs_background": "light"
     },
     "output_type": "display_data"
    }
   ],
   "source": [
    "# Bar chart representing busiest days of the week\n",
    "bar_busiest_days = df_merged['orders_day_of_week'].value_counts().sort_index().plot.bar()\n",
    "plt.title('Busiest Days')\n",
    "plt.xlabel('Days of the Week')\n",
    "plt.ylabel('Order Frequency')"
   ]
  },
  {
   "cell_type": "code",
   "execution_count": 49,
   "id": "4a5ea696",
   "metadata": {},
   "outputs": [
    {
     "data": {
      "text/plain": [
       "Text(0, 0.5, 'Order Frequency')"
      ]
     },
     "execution_count": 49,
     "metadata": {},
     "output_type": "execute_result"
    },
    {
     "data": {
      "image/png": "[encoded data removed]",
      "text/plain": [
       "<Figure size 432x288 with 1 Axes>"
      ]
     },
     "metadata": {
      "needs_background": "light"
     },
     "output_type": "display_data"
    }
   ],
   "source": [
    "# Bar chart representing busiest times of the day\n",
    "bar_busiest_time = df_merged['order_hour_of_day'].value_counts().sort_index().plot.bar()\n",
    "plt.title('Busiest Times')\n",
    "plt.xlabel('Hour of the Day')\n",
    "plt.ylabel('Order Frequency')"
   ]
  },
  {
   "cell_type": "code",
   "execution_count": 50,
   "id": "ba4ef14e",
   "metadata": {},
   "outputs": [
    {
     "data": {
      "text/plain": [
       "Text(0, 0.5, 'Number of Orders')"
      ]
     },
     "execution_count": 50,
     "metadata": {},
     "output_type": "execute_result"
    },
    {
     "data": {
      "image/png": "[encoded data removed]",
      "text/plain": [
       "<Figure size 432x288 with 1 Axes>"
      ]
     },
     "metadata": {
      "needs_background": "light"
     },
     "output_type": "display_data"
    }
   ],
   "source": [
    "# Bar chart showing department orders\n",
    "bar_dept_orders = df_merged['dept_type'].value_counts().sort_index().plot.bar()\n",
    "plt.title('Department Orders')\n",
    "plt.xlabel('Department')\n",
    "plt.ylabel('Number of Orders')"
   ]
  },
  {
   "cell_type": "markdown",
   "id": "11b1b4e0",
   "metadata": {},
   "source": [
    "# Aggregate the max, mean, and min vairables for usage frequency and expenditure"
   ]
  },
  {
   "cell_type": "code",
   "execution_count": 51,
   "id": "00566a44",
   "metadata": {},
   "outputs": [
    {
     "data": {
      "text/html": [
       "<div>\n",
       "<style scoped>\n",
       "    .dataframe tbody tr th:only-of-type {\n",
       "        vertical-align: middle;\n",
       "    }\n",
       "\n",
       "    .dataframe tbody tr th {\n",
       "        vertical-align: top;\n",
       "    }\n",
       "\n",
       "    .dataframe thead tr th {\n",
       "        text-align: left;\n",
       "    }\n",
       "\n",
       "    .dataframe thead tr:last-of-type th {\n",
       "        text-align: right;\n",
       "    }\n",
       "</style>\n",
       "<table border=\"1\" class=\"dataframe\">\n",
       "  <thead>\n",
       "    <tr>\n",
       "      <th></th>\n",
       "      <th colspan=\"3\" halign=\"left\">prices</th>\n",
       "    </tr>\n",
       "    <tr>\n",
       "      <th></th>\n",
       "      <th>mean</th>\n",
       "      <th>min</th>\n",
       "      <th>max</th>\n",
       "    </tr>\n",
       "    <tr>\n",
       "      <th>age_group</th>\n",
       "      <th></th>\n",
       "      <th></th>\n",
       "      <th></th>\n",
       "    </tr>\n",
       "  </thead>\n",
       "  <tbody>\n",
       "    <tr>\n",
       "      <th>Adult</th>\n",
       "      <td>12.167161</td>\n",
       "      <td>1.0</td>\n",
       "      <td>99999.0</td>\n",
       "    </tr>\n",
       "    <tr>\n",
       "      <th>Middle Aged Adult</th>\n",
       "      <td>11.494826</td>\n",
       "      <td>1.0</td>\n",
       "      <td>99999.0</td>\n",
       "    </tr>\n",
       "    <tr>\n",
       "      <th>Senior</th>\n",
       "      <td>11.966969</td>\n",
       "      <td>1.0</td>\n",
       "      <td>99999.0</td>\n",
       "    </tr>\n",
       "    <tr>\n",
       "      <th>Young adult</th>\n",
       "      <td>12.176007</td>\n",
       "      <td>1.0</td>\n",
       "      <td>99999.0</td>\n",
       "    </tr>\n",
       "  </tbody>\n",
       "</table>\n",
       "</div>"
      ],
      "text/plain": [
       "                      prices              \n",
       "                        mean  min      max\n",
       "age_group                                 \n",
       "Adult              12.167161  1.0  99999.0\n",
       "Middle Aged Adult  11.494826  1.0  99999.0\n",
       "Senior             11.966969  1.0  99999.0\n",
       "Young adult        12.176007  1.0  99999.0"
      ]
     },
     "execution_count": 51,
     "metadata": {},
     "output_type": "execute_result"
    }
   ],
   "source": [
    "# Expenditure by age group\n",
    "df_merged.groupby('age_group').agg({'prices': ['mean', 'min', 'max']})"
   ]
  },
  {
   "cell_type": "code",
   "execution_count": 52,
   "id": "e5d0dd71",
   "metadata": {},
   "outputs": [
    {
     "data": {
      "text/html": [
       "<div>\n",
       "<style scoped>\n",
       "    .dataframe tbody tr th:only-of-type {\n",
       "        vertical-align: middle;\n",
       "    }\n",
       "\n",
       "    .dataframe tbody tr th {\n",
       "        vertical-align: top;\n",
       "    }\n",
       "\n",
       "    .dataframe thead tr th {\n",
       "        text-align: left;\n",
       "    }\n",
       "\n",
       "    .dataframe thead tr:last-of-type th {\n",
       "        text-align: right;\n",
       "    }\n",
       "</style>\n",
       "<table border=\"1\" class=\"dataframe\">\n",
       "  <thead>\n",
       "    <tr>\n",
       "      <th></th>\n",
       "      <th colspan=\"3\" halign=\"left\">prices</th>\n",
       "    </tr>\n",
       "    <tr>\n",
       "      <th></th>\n",
       "      <th>mean</th>\n",
       "      <th>min</th>\n",
       "      <th>max</th>\n",
       "    </tr>\n",
       "    <tr>\n",
       "      <th>income_group</th>\n",
       "      <th></th>\n",
       "      <th></th>\n",
       "      <th></th>\n",
       "    </tr>\n",
       "  </thead>\n",
       "  <tbody>\n",
       "    <tr>\n",
       "      <th>High income</th>\n",
       "      <td>14.136879</td>\n",
       "      <td>1.0</td>\n",
       "      <td>99999.0</td>\n",
       "    </tr>\n",
       "    <tr>\n",
       "      <th>Low income</th>\n",
       "      <td>6.499866</td>\n",
       "      <td>1.0</td>\n",
       "      <td>25.0</td>\n",
       "    </tr>\n",
       "    <tr>\n",
       "      <th>Middle income</th>\n",
       "      <td>7.560668</td>\n",
       "      <td>1.0</td>\n",
       "      <td>14900.0</td>\n",
       "    </tr>\n",
       "  </tbody>\n",
       "</table>\n",
       "</div>"
      ],
      "text/plain": [
       "                  prices              \n",
       "                    mean  min      max\n",
       "income_group                          \n",
       "High income    14.136879  1.0  99999.0\n",
       "Low income      6.499866  1.0     25.0\n",
       "Middle income   7.560668  1.0  14900.0"
      ]
     },
     "execution_count": 52,
     "metadata": {},
     "output_type": "execute_result"
    }
   ],
   "source": [
    "# Expenditure by income\n",
    "df_merged.groupby('income_group').agg({'prices': ['mean', 'min', 'max']})"
   ]
  },
  {
   "cell_type": "code",
   "execution_count": 53,
   "id": "f508f70d",
   "metadata": {},
   "outputs": [
    {
     "data": {
      "text/html": [
       "<div>\n",
       "<style scoped>\n",
       "    .dataframe tbody tr th:only-of-type {\n",
       "        vertical-align: middle;\n",
       "    }\n",
       "\n",
       "    .dataframe tbody tr th {\n",
       "        vertical-align: top;\n",
       "    }\n",
       "\n",
       "    .dataframe thead tr th {\n",
       "        text-align: left;\n",
       "    }\n",
       "\n",
       "    .dataframe thead tr:last-of-type th {\n",
       "        text-align: right;\n",
       "    }\n",
       "</style>\n",
       "<table border=\"1\" class=\"dataframe\">\n",
       "  <thead>\n",
       "    <tr>\n",
       "      <th></th>\n",
       "      <th colspan=\"3\" halign=\"left\">prices</th>\n",
       "    </tr>\n",
       "    <tr>\n",
       "      <th></th>\n",
       "      <th>mean</th>\n",
       "      <th>min</th>\n",
       "      <th>max</th>\n",
       "    </tr>\n",
       "    <tr>\n",
       "      <th>region</th>\n",
       "      <th></th>\n",
       "      <th></th>\n",
       "      <th></th>\n",
       "    </tr>\n",
       "  </thead>\n",
       "  <tbody>\n",
       "    <tr>\n",
       "      <th>Midwest</th>\n",
       "      <td>12.627875</td>\n",
       "      <td>1.0</td>\n",
       "      <td>99999.0</td>\n",
       "    </tr>\n",
       "    <tr>\n",
       "      <th>Northeast</th>\n",
       "      <td>11.556554</td>\n",
       "      <td>1.0</td>\n",
       "      <td>99999.0</td>\n",
       "    </tr>\n",
       "    <tr>\n",
       "      <th>South</th>\n",
       "      <td>12.196474</td>\n",
       "      <td>1.0</td>\n",
       "      <td>99999.0</td>\n",
       "    </tr>\n",
       "    <tr>\n",
       "      <th>West</th>\n",
       "      <td>11.490124</td>\n",
       "      <td>1.0</td>\n",
       "      <td>99999.0</td>\n",
       "    </tr>\n",
       "  </tbody>\n",
       "</table>\n",
       "</div>"
      ],
      "text/plain": [
       "              prices              \n",
       "                mean  min      max\n",
       "region                            \n",
       "Midwest    12.627875  1.0  99999.0\n",
       "Northeast  11.556554  1.0  99999.0\n",
       "South      12.196474  1.0  99999.0\n",
       "West       11.490124  1.0  99999.0"
      ]
     },
     "execution_count": 53,
     "metadata": {},
     "output_type": "execute_result"
    }
   ],
   "source": [
    "# Expenditure by region\n",
    "df_merged.groupby('region').agg({'prices': ['mean', 'min', 'max']})"
   ]
  },
  {
   "cell_type": "code",
   "execution_count": 54,
   "id": "fe977b00",
   "metadata": {},
   "outputs": [
    {
     "data": {
      "text/html": [
       "<div>\n",
       "<style scoped>\n",
       "    .dataframe tbody tr th:only-of-type {\n",
       "        vertical-align: middle;\n",
       "    }\n",
       "\n",
       "    .dataframe tbody tr th {\n",
       "        vertical-align: top;\n",
       "    }\n",
       "\n",
       "    .dataframe thead tr th {\n",
       "        text-align: left;\n",
       "    }\n",
       "\n",
       "    .dataframe thead tr:last-of-type th {\n",
       "        text-align: right;\n",
       "    }\n",
       "</style>\n",
       "<table border=\"1\" class=\"dataframe\">\n",
       "  <thead>\n",
       "    <tr>\n",
       "      <th></th>\n",
       "      <th colspan=\"3\" halign=\"left\">prices</th>\n",
       "    </tr>\n",
       "    <tr>\n",
       "      <th></th>\n",
       "      <th>mean</th>\n",
       "      <th>min</th>\n",
       "      <th>max</th>\n",
       "    </tr>\n",
       "    <tr>\n",
       "      <th>dependent_flag</th>\n",
       "      <th></th>\n",
       "      <th></th>\n",
       "      <th></th>\n",
       "    </tr>\n",
       "  </thead>\n",
       "  <tbody>\n",
       "    <tr>\n",
       "      <th>No dependents</th>\n",
       "      <td>12.130265</td>\n",
       "      <td>1.0</td>\n",
       "      <td>99999.0</td>\n",
       "    </tr>\n",
       "    <tr>\n",
       "      <th>Parent/Guardian</th>\n",
       "      <td>11.931712</td>\n",
       "      <td>1.0</td>\n",
       "      <td>99999.0</td>\n",
       "    </tr>\n",
       "  </tbody>\n",
       "</table>\n",
       "</div>"
      ],
      "text/plain": [
       "                    prices              \n",
       "                      mean  min      max\n",
       "dependent_flag                          \n",
       "No dependents    12.130265  1.0  99999.0\n",
       "Parent/Guardian  11.931712  1.0  99999.0"
      ]
     },
     "execution_count": 54,
     "metadata": {},
     "output_type": "execute_result"
    }
   ],
   "source": [
    "# Expenditure by parental status\n",
    "df_merged.groupby('dependent_flag').agg({'prices': ['mean', 'min', 'max']})"
   ]
  },
  {
   "cell_type": "markdown",
   "id": "0d42a82a",
   "metadata": {},
   "source": [
    "# Comparing customer profiles with regions and departments"
   ]
  },
  {
   "cell_type": "markdown",
   "id": "9f5eeef3",
   "metadata": {},
   "source": [
    "# Loyal Customers"
   ]
  },
  {
   "cell_type": "code",
   "execution_count": 55,
   "id": "e6f60313",
   "metadata": {},
   "outputs": [],
   "source": [
    "# Creating a crosstab between loyal customers and department\n",
    "ctab_loyal_dept = pd.crosstab(df_merged['dept_type'], df_merged['loyalty_flag'], dropna = False)"
   ]
  },
  {
   "cell_type": "code",
   "execution_count": 56,
   "id": "e84a4a17",
   "metadata": {},
   "outputs": [
    {
     "data": {
      "text/plain": [
       "Text(0, 0.5, 'Order Frequency')"
      ]
     },
     "execution_count": 56,
     "metadata": {},
     "output_type": "execute_result"
    },
    {
     "data": {
      "image/png": "[encoded data removed]",
      "text/plain": [
       "<Figure size 432x288 with 1 Axes>"
      ]
     },
     "metadata": {
      "needs_background": "light"
     },
     "output_type": "display_data"
    }
   ],
   "source": [
    "# Creating a stacked bar chart displaying ctab_loyal_dept\n",
    "bar_loyal_dept = ctab_loyal_dept.plot(kind = 'bar', stacked = True, color = sns.color_palette('tab10'))\n",
    "plt.title('Loyal Customers by Department')\n",
    "plt.xlabel('Department')\n",
    "plt.ylabel('Order Frequency')"
   ]
  },
  {
   "cell_type": "code",
   "execution_count": 74,
   "id": "8e543655",
   "metadata": {},
   "outputs": [],
   "source": [
    "# Exporting bar chart \n",
    "bar_loyal_dept.figure.savefig(os.path.join(path, 'Analysis','Visualizations', 'bar_loyal_dept.png'))"
   ]
  },
  {
   "cell_type": "code",
   "execution_count": 57,
   "id": "c54652a4",
   "metadata": {},
   "outputs": [],
   "source": [
    "# Creating a crosstab between loyal customers and region\n",
    "ctab_loyal_region = pd.crosstab(df_merged['region'], df_merged['loyalty_flag'], dropna = False)"
   ]
  },
  {
   "cell_type": "code",
   "execution_count": 58,
   "id": "aff33dc7",
   "metadata": {},
   "outputs": [
    {
     "data": {
      "text/plain": [
       "Text(0, 0.5, 'Order Frequency')"
      ]
     },
     "execution_count": 58,
     "metadata": {},
     "output_type": "execute_result"
    },
    {
     "data": {
      "image/png": "[encoded data removed]",
      "text/plain": [
       "<Figure size 432x288 with 1 Axes>"
      ]
     },
     "metadata": {
      "needs_background": "light"
     },
     "output_type": "display_data"
    }
   ],
   "source": [
    "# Creating a stacked bar chart showing ctab_loyal_region\n",
    "bar_loyal_region = ctab_loyal_region.plot(kind = 'bar', stacked = True, color = sns.color_palette('tab10'))\n",
    "plt.title('Loyal Customers by Region')\n",
    "plt.xlabel('Region')\n",
    "plt.ylabel('Order Frequency')"
   ]
  },
  {
   "cell_type": "code",
   "execution_count": null,
   "id": "435dec86",
   "metadata": {},
   "outputs": [],
   "source": [
    "# Exporting bar chart\n",
    "bar_loyal_region.figure.savefig(os.path.join(path, 'Analysis','Visualizations', 'bar_loyal_region.png'))"
   ]
  },
  {
   "cell_type": "markdown",
   "id": "6651028b",
   "metadata": {},
   "source": [
    "# Region"
   ]
  },
  {
   "cell_type": "code",
   "execution_count": 61,
   "id": "841f4c16",
   "metadata": {},
   "outputs": [],
   "source": [
    "# Creating a crosstab between department and region\n",
    "ctab_region_dept = pd.crosstab(df_merged['dept_type'], df_merged['region'], dropna = False)"
   ]
  },
  {
   "cell_type": "code",
   "execution_count": 62,
   "id": "1f3d9ae3",
   "metadata": {},
   "outputs": [
    {
     "data": {
      "text/plain": [
       "Text(0, 0.5, 'Order Frequency')"
      ]
     },
     "execution_count": 62,
     "metadata": {},
     "output_type": "execute_result"
    },
    {
     "data": {
      "image/png": "[encoded data removed]",
      "text/plain": [
       "<Figure size 432x288 with 1 Axes>"
      ]
     },
     "metadata": {
      "needs_background": "light"
     },
     "output_type": "display_data"
    }
   ],
   "source": [
    "# Creating a stacked bar chart showing ctab_region_dept\n",
    "bar_region_dept = ctab_region_dept.plot(kind = 'bar', stacked = True, color = sns.color_palette('tab10'))\n",
    "plt.title('Regions by Department')\n",
    "plt.xlabel('Department')\n",
    "plt.ylabel('Order Frequency')"
   ]
  },
  {
   "cell_type": "code",
   "execution_count": 80,
   "id": "ed506eff",
   "metadata": {},
   "outputs": [],
   "source": [
    "# Exporting bar chart\n",
    "bar_region_dept.figure.savefig(os.path.join(path, 'Analysis','Visualizations', 'bar_region_dept.png'))"
   ]
  },
  {
   "cell_type": "markdown",
   "id": "d70618a2",
   "metadata": {},
   "source": [
    "# Parental Status "
   ]
  },
  {
   "cell_type": "code",
   "execution_count": 63,
   "id": "651705cd",
   "metadata": {},
   "outputs": [],
   "source": [
    "# Creating a crosstab between parental status and region\n",
    "ctab_ps_region = pd.crosstab(df_merged['region'], df_merged['dependent_flag'], dropna = False)"
   ]
  },
  {
   "cell_type": "code",
   "execution_count": 64,
   "id": "c051d60a",
   "metadata": {},
   "outputs": [
    {
     "data": {
      "text/plain": [
       "Text(0, 0.5, 'Order Frequency')"
      ]
     },
     "execution_count": 64,
     "metadata": {},
     "output_type": "execute_result"
    },
    {
     "data": {
      "image/png": "[encoded data removed]",
      "text/plain": [
       "<Figure size 432x288 with 1 Axes>"
      ]
     },
     "metadata": {
      "needs_background": "light"
     },
     "output_type": "display_data"
    }
   ],
   "source": [
    "# Creating a stacked bar chart showing ctab_ps_region\n",
    "bar_ps_region = ctab_ps_region.plot(kind = 'bar', stacked = True, color = sns.color_palette('tab10'))\n",
    "plt.title('Regions by Parental Status')\n",
    "plt.xlabel('Region')\n",
    "plt.ylabel('Order Frequency')"
   ]
  },
  {
   "cell_type": "code",
   "execution_count": 85,
   "id": "e3f912d1",
   "metadata": {},
   "outputs": [],
   "source": [
    "# Exporting bar chart\n",
    "bar_ps_region.figure.savefig(os.path.join(path, 'Analysis','Visualizations', 'bar_ps_region.png'))"
   ]
  },
  {
   "cell_type": "code",
   "execution_count": 65,
   "id": "f2f1ae3c",
   "metadata": {},
   "outputs": [],
   "source": [
    "# Creating a crosstab between parental status and department\n",
    "ctab_ps_dept = pd.crosstab(df_merged['dept_type'], df_merged['dependent_flag'], dropna = False)"
   ]
  },
  {
   "cell_type": "code",
   "execution_count": 66,
   "id": "32a17b05",
   "metadata": {},
   "outputs": [
    {
     "data": {
      "text/plain": [
       "Text(0, 0.5, 'Order Frequency')"
      ]
     },
     "execution_count": 66,
     "metadata": {},
     "output_type": "execute_result"
    },
    {
     "data": {
      "image/png": "[encoded data removed]",
      "text/plain": [
       "<Figure size 432x288 with 1 Axes>"
      ]
     },
     "metadata": {
      "needs_background": "light"
     },
     "output_type": "display_data"
    }
   ],
   "source": [
    "# Creating a stacked bar chart showing ct_ps_dept\n",
    "bar_ps_dept = ctab_ps_dept.plot(kind = 'bar', stacked = True, color = sns.color_palette('tab10'))\n",
    "plt.title('Department by Parental Status')\n",
    "plt.xlabel('Department')\n",
    "plt.ylabel('Order Frequency')"
   ]
  },
  {
   "cell_type": "code",
   "execution_count": 87,
   "id": "f3bc11cf",
   "metadata": {},
   "outputs": [],
   "source": [
    "# Exporting bar chart\n",
    "bar_ps_dept.figure.savefig(os.path.join(path, 'Analysis','Visualizations', 'bar_ps_dept.png'))"
   ]
  },
  {
   "cell_type": "markdown",
   "id": "1fb4eab2",
   "metadata": {},
   "source": [
    "# Age"
   ]
  },
  {
   "cell_type": "code",
   "execution_count": 67,
   "id": "0e73d0bb",
   "metadata": {},
   "outputs": [],
   "source": [
    "# Creating a crosstab between age and departments\n",
    "ctab_age_dept = pd.crosstab(df_merged['dept_type'], df_merged['age_group'], dropna = False)"
   ]
  },
  {
   "cell_type": "code",
   "execution_count": 68,
   "id": "45f3ac39",
   "metadata": {},
   "outputs": [
    {
     "data": {
      "text/plain": [
       "Text(0, 0.5, 'Order Frequency')"
      ]
     },
     "execution_count": 68,
     "metadata": {},
     "output_type": "execute_result"
    },
    {
     "data": {
      "image/png": "[encoded data removed]",
      "text/plain": [
       "<Figure size 432x288 with 1 Axes>"
      ]
     },
     "metadata": {
      "needs_background": "light"
     },
     "output_type": "display_data"
    }
   ],
   "source": [
    "# Creating a stacked bar chart showing ctab_age_dept\n",
    "bar_age_dept = ctab_age_dept.plot(kind = 'bar', stacked = True, color = sns.color_palette('tab10'))\n",
    "plt.title('Department by Age Group')\n",
    "plt.xlabel('Department')\n",
    "plt.ylabel('Order Frequency')"
   ]
  },
  {
   "cell_type": "code",
   "execution_count": 91,
   "id": "eccdde06",
   "metadata": {},
   "outputs": [],
   "source": [
    "# Exporting bar chart\n",
    "bar_age_dept.figure.savefig(os.path.join(path, 'Analysis','Visualizations', 'bar_age_dept.png'))"
   ]
  },
  {
   "cell_type": "code",
   "execution_count": 69,
   "id": "6616229c",
   "metadata": {},
   "outputs": [],
   "source": [
    "# Creating a crosstab between age and region\n",
    "ctab_age_region = pd.crosstab(df_merged['region'], df_merged['age_group'], dropna = False)"
   ]
  },
  {
   "cell_type": "code",
   "execution_count": 70,
   "id": "e3ca6e11",
   "metadata": {},
   "outputs": [
    {
     "data": {
      "text/plain": [
       "Text(0, 0.5, 'Order Frequency')"
      ]
     },
     "execution_count": 70,
     "metadata": {},
     "output_type": "execute_result"
    },
    {
     "data": {
      "image/png": "[encoded data removed]",
      "text/plain": [
       "<Figure size 432x288 with 1 Axes>"
      ]
     },
     "metadata": {
      "needs_background": "light"
     },
     "output_type": "display_data"
    }
   ],
   "source": [
    "# Creating a stacked bar chart showing ctab_age_region\n",
    "bar_age_region = ctab_age_region.plot(kind = 'bar', stacked = True, color = sns.color_palette('tab10'))\n",
    "plt.title('Region by Age Group')\n",
    "plt.xlabel('Region')\n",
    "plt.ylabel('Order Frequency')"
   ]
  },
  {
   "cell_type": "code",
   "execution_count": 94,
   "id": "12f48792",
   "metadata": {},
   "outputs": [],
   "source": [
    "# Exporting bar chart\n",
    "bar_age_region.figure.savefig(os.path.join(path, 'Analysis','Visualizations', 'bar_age_region.png'))"
   ]
  },
  {
   "cell_type": "markdown",
   "id": "0b404486",
   "metadata": {},
   "source": [
    "# Income"
   ]
  },
  {
   "cell_type": "code",
   "execution_count": 71,
   "id": "6dfb5f23",
   "metadata": {},
   "outputs": [],
   "source": [
    "# Creating a crosstab between income and department \n",
    "ctab_dept_income = pd.crosstab(df_merged['dept_type'], df_merged['income_group'], dropna = False)"
   ]
  },
  {
   "cell_type": "code",
   "execution_count": 72,
   "id": "153eae7f",
   "metadata": {},
   "outputs": [
    {
     "data": {
      "text/plain": [
       "Text(0, 0.5, 'Order Frequency')"
      ]
     },
     "execution_count": 72,
     "metadata": {},
     "output_type": "execute_result"
    },
    {
     "data": {
      "image/png": "[encoded data removed]",
      "text/plain": [
       "<Figure size 432x288 with 1 Axes>"
      ]
     },
     "metadata": {
      "needs_background": "light"
     },
     "output_type": "display_data"
    }
   ],
   "source": [
    "# Creating a stacked bar chart showing ctab_age_income\n",
    "bar_dept_income = ctab_dept_income.plot(kind = 'bar', stacked = True, color = sns.color_palette('tab10'))\n",
    "plt.title('Income by Department')\n",
    "plt.xlabel('Department')\n",
    "plt.ylabel('Order Frequency')"
   ]
  },
  {
   "cell_type": "code",
   "execution_count": 98,
   "id": "0187f077",
   "metadata": {},
   "outputs": [],
   "source": [
    "# Exporting bar chart\n",
    "bar_dept_income.figure.savefig(os.path.join(path, 'Analysis','Visualizations', 'bar_dept_income.png'))"
   ]
  },
  {
   "cell_type": "code",
   "execution_count": 73,
   "id": "e574af31",
   "metadata": {},
   "outputs": [],
   "source": [
    "# Creating a crosstab between income and region\n",
    "ctab_income_region = pd.crosstab(df_merged['income_group'], df_merged['region'], dropna = False)"
   ]
  },
  {
   "cell_type": "code",
   "execution_count": 74,
   "id": "e7690136",
   "metadata": {},
   "outputs": [
    {
     "data": {
      "text/plain": [
       "Text(0, 0.5, 'Order Frequency')"
      ]
     },
     "execution_count": 74,
     "metadata": {},
     "output_type": "execute_result"
    },
    {
     "data": {
      "image/png": "[encoded data removed]",
      "text/plain": [
       "<Figure size 432x288 with 1 Axes>"
      ]
     },
     "metadata": {
      "needs_background": "light"
     },
     "output_type": "display_data"
    }
   ],
   "source": [
    "# Creating a stacked bar chart showing ctab_income_region\n",
    "bar_income_region = ctab_income_region.plot(kind = 'bar', stacked = True, color = sns.color_palette('tab10'))\n",
    "plt.title('Income by Region')\n",
    "plt.xlabel('Income')\n",
    "plt.ylabel('Order Frequency')"
   ]
  },
  {
   "cell_type": "code",
   "execution_count": null,
   "id": "53c222d5",
   "metadata": {},
   "outputs": [],
   "source": [
    "# Exporting bar chart\n",
    "bar_income_region.figure.savefig(os.path.join(path, 'Analysis','Visualizations', 'bar_income_region.png'))"
   ]
  },
  {
   "cell_type": "code",
   "execution_count": 41,
   "id": "0bcfb305",
   "metadata": {},
   "outputs": [],
   "source": [
    "# Exporting new dataset\n",
    "df_merged.to_pickle(os.path.join(path, 'Data','Prepared Data', 'final_dataset.pkl'))"
   ]
  }
 ],
 "metadata": {
  "kernelspec": {
   "display_name": "Python 3 (ipykernel)",
   "language": "python",
   "name": "python3"
  },
  "language_info": {
   "codemirror_mode": {
    "name": "ipython",
    "version": 3
   },
   "file_extension": ".py",
   "mimetype": "text/x-python",
   "name": "python",
   "nbconvert_exporter": "python",
   "pygments_lexer": "ipython3",
   "version": "3.9.12"
  }
 },
 "nbformat": 4,
 "nbformat_minor": 5
}
